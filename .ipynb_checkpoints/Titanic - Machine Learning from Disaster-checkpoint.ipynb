{
 "cells": [
  {
   "cell_type": "markdown",
   "id": "703a04fb",
   "metadata": {},
   "source": [
    "# Titanic Machine Learning From Disaster"
   ]
  },
  {
   "cell_type": "markdown",
   "id": "0c966b47",
   "metadata": {},
   "source": [
    "## Import Required Libraries"
   ]
  },
  {
   "cell_type": "code",
   "execution_count": null,
   "id": "4bf907d8",
   "metadata": {},
   "outputs": [],
   "source": [
    "import pandas as pd\n",
    "import matplotlib.pyplot as plt\n",
    "import seaborn as sns\n",
    "from sklearn.impute import SimpleImputer\n",
    "from sklearn.preprocessing import StandardScaler\n",
    "from sklearn.ensemble import RandomForestClassifier\n",
    "from sklearn.model_selection import train_test_split\n",
    "from sklearn.metrics import accuracy_score, precision_score, recall_score, confusion_matrix"
   ]
  },
  {
   "cell_type": "markdown",
   "id": "b20bf230",
   "metadata": {},
   "source": [
    "## Loading the Data"
   ]
  },
  {
   "cell_type": "code",
   "execution_count": null,
   "id": "68c579a9",
   "metadata": {},
   "outputs": [],
   "source": [
    "train_df = pd.read_csv('train.csv')\n",
    "test_df = pd.read_csv('test.csv')\n",
    "\n",
    "# Explore the training data\n",
    "print(train_df.head())\n",
    "print(train_df.info())"
   ]
  },
  {
   "cell_type": "markdown",
   "id": "cfe9be31",
   "metadata": {},
   "source": [
    "## Data Preprocessing"
   ]
  },
  {
   "cell_type": "code",
   "execution_count": null,
   "id": "38a8ced7",
   "metadata": {},
   "outputs": [],
   "source": [
    "# Imputing missing values\n",
    "impute_age = SimpleImputer(strategy=\"median\")\n",
    "train_df['Age'] = impute_age.fit_transform(train_df[['Age']])\n",
    "\n",
    "# Check if 'Embarked' column exists\n",
    "if 'Embarked' in train_df.columns:\n",
    "    train_df['Embarked'] = train_df['Embarked'].fillna(train_df['Embarked'].mode()[0])\n",
    "else:\n",
    "    print(\"'Embarked' column not found in the dataset.\")\n",
    "train_df['Cabin'] = train_df['Cabin'].notna().astype(int)\n",
    "\n",
    "# Converting categorical variables\n",
    "train_df['Sex'] = train_df['Sex'].map({'male': 0, 'female': 1})\n",
    "train_df = pd.get_dummies(train_df, columns=['Embarked'])\n",
    "\n",
    "# Feature engineering\n",
    "train_df['FamilySize'] = train_df['SibSp'] + train_df['Parch']\n",
    "train_df['IsAlone'] = (train_df['FamilySize'] == 0).astype(int)\n",
    "\n",
    "# Dropping unnecessary features\n",
    "train_df.drop(['Ticket', 'Name', 'SibSp', 'Parch'], axis=1, inplace=True)\n",
    "\n",
    "# Scaling numerical features\n",
    "scaler = StandardScaler()\n",
    "train_df[['Age', 'Fare', 'FamilySize']] = scaler.fit_transform(train_df[['Age', 'Fare', 'FamilySize']])\n",
    "train_df"
   ]
  },
  {
   "cell_type": "markdown",
   "id": "0e66c0c1",
   "metadata": {},
   "source": [
    "## Exploratory Data Analysis"
   ]
  },
  {
   "cell_type": "code",
   "execution_count": null,
   "id": "b691ad85",
   "metadata": {},
   "outputs": [],
   "source": [
    "# Set the aesthetics for the plots\n",
    "sns.set(style=\"whitegrid\")\n",
    "\n",
    "# Analyzing the Overall Survival Rate\n",
    "overall_survival_rate = train_df['Survived'].mean()\n",
    "\n",
    "# Creating plots to analyze feature correlations with survival\n",
    "fig, axes = plt.subplots(nrows=3, ncols=2, figsize=(15, 15))\n",
    "\n",
    "# Pclass vs Survival\n",
    "sns.barplot(x='Pclass', y='Survived', data=train_df, ax=axes[0, 0])\n",
    "\n",
    "# Sex vs Survival\n",
    "sns.barplot(x='Sex', y='Survived', data=train_df, ax=axes[0, 1])\n",
    "\n",
    "# Age vs Survival\n",
    "sns.histplot(data=train_df, x='Age', hue='Survived', multiple='stack', bins=30, ax=axes[1, 0])\n",
    "\n",
    "# Fare vs Survival\n",
    "sns.histplot(data=train_df, x='Fare', hue='Survived', multiple='stack', bins=40, ax=axes[1, 1])\n",
    "\n",
    "# FamilySize vs Survival\n",
    "sns.barplot(x='FamilySize', y='Survived', data=train_df, ax=axes[2, 0])\n",
    "\n",
    "# IsAlone vs Survival\n",
    "sns.barplot(x='IsAlone', y='Survived', data=train_df, ax=axes[2, 1])\n",
    "\n",
    "plt.tight_layout()\n",
    "plt.show()\n",
    "\n",
    "print(\"Overall Survival Rate on Training Data:\", overall_survival_rate)"
   ]
  },
  {
   "cell_type": "markdown",
   "id": "bdc312f1",
   "metadata": {},
   "source": [
    "## Model Training"
   ]
  },
  {
   "cell_type": "code",
   "execution_count": null,
   "id": "7a8b3b7f",
   "metadata": {},
   "outputs": [],
   "source": [
    "X = train_df.drop(['Survived', 'PassengerId'], axis=1)\n",
    "y = train_df['Survived']\n",
    "\n",
    "X_train, X_test, y_train, y_test = train_test_split(X, y, test_size=0.2, random_state=42)\n",
    "\n",
    "random_forest_model = RandomForestClassifier(n_estimators=100, random_state=42)\n",
    "random_forest_model.fit(X_train, y_train)"
   ]
  },
  {
   "cell_type": "markdown",
   "id": "1e82aa25",
   "metadata": {},
   "source": [
    "## Model Evaluation"
   ]
  },
  {
   "cell_type": "code",
   "execution_count": null,
   "id": "3ee12d72",
   "metadata": {},
   "outputs": [],
   "source": [
    "y_pred = random_forest_model.predict(X_test)\n",
    "\n",
    "accuracy = accuracy_score(y_test, y_pred)\n",
    "precision = precision_score(y_test, y_pred)\n",
    "recall = recall_score(y_test, y_pred)\n",
    "conf_matrix = confusion_matrix(y_test, y_pred)\n",
    "\n",
    "print(\"Accuracy:\", accuracy)\n",
    "print(\"Precision:\", precision)\n",
    "print(\"Recall:\", recall)\n",
    "print(\"Confusion Matrix:\\n\", conf_matrix)"
   ]
  },
  {
   "cell_type": "markdown",
   "id": "6114e5f3",
   "metadata": {},
   "source": [
    "## Preparing the Test Data for Predictions"
   ]
  },
  {
   "cell_type": "code",
   "execution_count": null,
   "id": "24125784",
   "metadata": {},
   "outputs": [],
   "source": [
    "# Apply the same preprocessing to the test data\n",
    "test_df['Age'] = impute_age.transform(test_df[['Age']])\n",
    "test_df['Fare'] = test_df['Fare'].fillna(test_df['Fare'].median())\n",
    "test_df['Cabin'] = test_df['Cabin'].notna().astype(int)\n",
    "test_df['Sex'] = test_df['Sex'].map({'male': 0, 'female': 1})\n",
    "\n",
    "# Check if 'Embarked' column exists before creating dummy variables\n",
    "if 'Embarked' in test_df.columns:\n",
    "    test_df = pd.get_dummies(test_df, columns=['Embarked'], drop_first=True)\n",
    "\n",
    "# Create 'FamilySize' and 'IsAlone' features\n",
    "if 'SibSp' in test_df.columns and 'Parch' in test_df.columns:\n",
    "    test_df['FamilySize'] = test_df['SibSp'] + test_df['Parch']\n",
    "    test_df['IsAlone'] = (test_df['FamilySize'] == 0).astype(int)\n",
    "\n",
    "# Drop unnecessary columns only if they exist\n",
    "columns_to_drop = ['Ticket', 'Name', 'SibSp', 'Parch']\n",
    "for col in columns_to_drop:\n",
    "    if col in test_df.columns:\n",
    "        test_df.drop(col, axis=1, inplace=True)\n",
    "\n",
    "# Scale numerical features\n",
    "test_df[['Age', 'Fare', 'FamilySize']] = scaler.transform(test_df[['Age', 'Fare', 'FamilySize']])\n",
    "\n",
    "# Add missing dummy columns if they are not present in the test set\n",
    "for col in set(X_train.columns) - set(test_df.columns):\n",
    "    test_df[col] = 0\n",
    "\n",
    "# Reorder columns to match the training set\n",
    "test_df = test_df[X_train.columns]\n",
    "test_df"
   ]
  },
  {
   "cell_type": "markdown",
   "id": "63209390",
   "metadata": {},
   "source": [
    "## Making Predictions on the Test Set"
   ]
  },
  {
   "cell_type": "code",
   "execution_count": null,
   "id": "ab78cf3f",
   "metadata": {},
   "outputs": [],
   "source": [
    "# Making predictions on the test dataset\n",
    "test_predictions = random_forest_model.predict(test_df)\n",
    "\n",
    "# Creating a DataFrame for the predictions\n",
    "prediction_df = pd.DataFrame({\n",
    "    'PassengerId': test_df.index + 1,  # Adjusting index to match PassengerId\n",
    "    'Survived': test_predictions\n",
    "})\n",
    "\n",
    "# Displaying the first few predictions\n",
    "prediction_df.head(20)"
   ]
  },
  {
   "cell_type": "code",
   "execution_count": null,
   "id": "fcaac711",
   "metadata": {},
   "outputs": [],
   "source": []
  }
 ],
 "metadata": {
  "kernelspec": {
   "display_name": "Python 3",
   "language": "python",
   "name": "python3"
  },
  "language_info": {
   "codemirror_mode": {
    "name": "ipython",
    "version": 3
   },
   "file_extension": ".py",
   "mimetype": "text/x-python",
   "name": "python",
   "nbconvert_exporter": "python",
   "pygments_lexer": "ipython3",
   "version": "3.11.2"
  }
 },
 "nbformat": 4,
 "nbformat_minor": 5
}
